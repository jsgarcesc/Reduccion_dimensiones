{
 "cells": [
  {
   "cell_type": "markdown",
   "metadata": {},
   "source": [
    "Universidad de los Andes\n",
    "============"
   ]
  },
  {
   "cell_type": "markdown",
   "metadata": {},
   "source": [
    "Punto 1 - Componentes principales\n",
    "---------------------------------\n",
    "_________________________________"
   ]
  },
  {
   "cell_type": "markdown",
   "metadata": {},
   "source": [
    "Utilizando el conjunto de datos \"airquality\" del paquete \"datasets\", construya la matriz de datos X usando las primeras cuatro variables: nivel de ozono, radiación solar, viento y temperatura.\n",
    "Información de los datos puede ser consultada ?airquality. (Use na.omit)"
   ]
  },
  {
   "cell_type": "code",
   "execution_count": 66,
   "metadata": {},
   "outputs": [
    {
     "data": {
      "text/html": [
       "<table>\n",
       "<thead><tr><th></th><th scope=col>Ozone</th><th scope=col>Solar.R</th><th scope=col>Wind</th><th scope=col>Temp</th></tr></thead>\n",
       "<tbody>\n",
       "\t<tr><th scope=row>1</th><td>41  </td><td>190 </td><td> 7.4</td><td>67  </td></tr>\n",
       "\t<tr><th scope=row>2</th><td>36  </td><td>118 </td><td> 8.0</td><td>72  </td></tr>\n",
       "\t<tr><th scope=row>3</th><td>12  </td><td>149 </td><td>12.6</td><td>74  </td></tr>\n",
       "\t<tr><th scope=row>4</th><td>18  </td><td>313 </td><td>11.5</td><td>62  </td></tr>\n",
       "\t<tr><th scope=row>7</th><td>23  </td><td>299 </td><td> 8.6</td><td>65  </td></tr>\n",
       "\t<tr><th scope=row>8</th><td>19  </td><td> 99 </td><td>13.8</td><td>59  </td></tr>\n",
       "</tbody>\n",
       "</table>\n"
      ],
      "text/latex": [
       "\\begin{tabular}{r|llll}\n",
       "  & Ozone & Solar.R & Wind & Temp\\\\\n",
       "\\hline\n",
       "\t1 & 41   & 190  &  7.4 & 67  \\\\\n",
       "\t2 & 36   & 118  &  8.0 & 72  \\\\\n",
       "\t3 & 12   & 149  & 12.6 & 74  \\\\\n",
       "\t4 & 18   & 313  & 11.5 & 62  \\\\\n",
       "\t7 & 23   & 299  &  8.6 & 65  \\\\\n",
       "\t8 & 19   &  99  & 13.8 & 59  \\\\\n",
       "\\end{tabular}\n"
      ],
      "text/markdown": [
       "\n",
       "| <!--/--> | Ozone | Solar.R | Wind | Temp | \n",
       "|---|---|---|---|---|---|\n",
       "| 1 | 41   | 190  |  7.4 | 67   | \n",
       "| 2 | 36   | 118  |  8.0 | 72   | \n",
       "| 3 | 12   | 149  | 12.6 | 74   | \n",
       "| 4 | 18   | 313  | 11.5 | 62   | \n",
       "| 7 | 23   | 299  |  8.6 | 65   | \n",
       "| 8 | 19   |  99  | 13.8 | 59   | \n",
       "\n",
       "\n"
      ],
      "text/plain": [
       "  Ozone Solar.R Wind Temp\n",
       "1 41    190      7.4 67  \n",
       "2 36    118      8.0 72  \n",
       "3 12    149     12.6 74  \n",
       "4 18    313     11.5 62  \n",
       "7 23    299      8.6 65  \n",
       "8 19     99     13.8 59  "
      ]
     },
     "metadata": {},
     "output_type": "display_data"
    }
   ],
   "source": [
    "library(datasets)\n",
    "data(\"airquality\")\n",
    "air=na.omit(airquality[,1:4])\n",
    "head(air)\n",
    "n=nrow(air)"
   ]
  },
  {
   "cell_type": "markdown",
   "metadata": {},
   "source": [
    " "
   ]
  },
  {
   "cell_type": "markdown",
   "metadata": {},
   "source": [
    "1.1 Componentes principales - matriz de covarianzas\n",
    "------\n",
    "Suponga que se le pide construir un índice de severidad de clima  para el mes de mayo usando estas cuatro variables.  Encuentre la primera componente principal (con la matriz de varianza)  e interprétela.\n",
    "<br>\n",
    "<br>\n",
    "Se construye la matriz de covarianza teniendo en cuenta solo las 4 variables indicadas:"
   ]
  },
  {
   "cell_type": "code",
   "execution_count": 71,
   "metadata": {},
   "outputs": [
    {
     "data": {
      "text/html": [
       "<table>\n",
       "<thead><tr><th></th><th scope=col>Ozone</th><th scope=col>Solar.R</th><th scope=col>Wind</th><th scope=col>Temp</th></tr></thead>\n",
       "<tbody>\n",
       "\t<tr><th scope=row>Ozone</th><td>1107.3</td><td>1056.6</td><td>-72.5 </td><td>221.5 </td></tr>\n",
       "\t<tr><th scope=row>Solar.R</th><td>1056.6</td><td>8308.7</td><td>-41.2 </td><td>255.5 </td></tr>\n",
       "\t<tr><th scope=row>Wind</th><td> -72.5</td><td> -41.2</td><td> 12.7 </td><td>-16.9 </td></tr>\n",
       "\t<tr><th scope=row>Temp</th><td> 221.5</td><td> 255.5</td><td>-16.9 </td><td> 90.8 </td></tr>\n",
       "</tbody>\n",
       "</table>\n"
      ],
      "text/latex": [
       "\\begin{tabular}{r|llll}\n",
       "  & Ozone & Solar.R & Wind & Temp\\\\\n",
       "\\hline\n",
       "\tOzone & 1107.3 & 1056.6 & -72.5  & 221.5 \\\\\n",
       "\tSolar.R & 1056.6 & 8308.7 & -41.2  & 255.5 \\\\\n",
       "\tWind &  -72.5 &  -41.2 &  12.7  & -16.9 \\\\\n",
       "\tTemp &  221.5 &  255.5 & -16.9  &  90.8 \\\\\n",
       "\\end{tabular}\n"
      ],
      "text/markdown": [
       "\n",
       "| <!--/--> | Ozone | Solar.R | Wind | Temp | \n",
       "|---|---|---|---|\n",
       "| Ozone | 1107.3 | 1056.6 | -72.5  | 221.5  | \n",
       "| Solar.R | 1056.6 | 8308.7 | -41.2  | 255.5  | \n",
       "| Wind |  -72.5 |  -41.2 |  12.7  | -16.9  | \n",
       "| Temp |  221.5 |  255.5 | -16.9  |  90.8  | \n",
       "\n",
       "\n"
      ],
      "text/plain": [
       "        Ozone  Solar.R Wind  Temp \n",
       "Ozone   1107.3 1056.6  -72.5 221.5\n",
       "Solar.R 1056.6 8308.7  -41.2 255.5\n",
       "Wind     -72.5  -41.2   12.7 -16.9\n",
       "Temp     221.5  255.5  -16.9  90.8"
      ]
     },
     "metadata": {},
     "output_type": "display_data"
    }
   ],
   "source": [
    "# Matriz de covarianza\n",
    "S=round(var(air),1)\n",
    "S"
   ]
  },
  {
   "cell_type": "markdown",
   "metadata": {},
   "source": [
    " "
   ]
  },
  {
   "cell_type": "markdown",
   "metadata": {},
   "source": [
    "El valor y vector propio del primer componente, basados esta matriz, se muestra a continuación:"
   ]
  },
  {
   "cell_type": "code",
   "execution_count": 72,
   "metadata": {},
   "outputs": [
    {
     "data": {
      "text/html": [
       "<table>\n",
       "<thead><tr><th></th><th scope=col>w</th></tr></thead>\n",
       "<tbody>\n",
       "\t<tr><th scope=row>Ozone</th><td>-0.14301748</td></tr>\n",
       "\t<tr><th scope=row>Solar.R</th><td>-0.98911878</td></tr>\n",
       "\t<tr><th scope=row>Wind</th><td> 0.00611202</td></tr>\n",
       "\t<tr><th scope=row>Temp</th><td>-0.03395128</td></tr>\n",
       "</tbody>\n",
       "</table>\n"
      ],
      "text/latex": [
       "\\begin{tabular}{r|l}\n",
       "  & w\\\\\n",
       "\\hline\n",
       "\tOzone & -0.14301748\\\\\n",
       "\tSolar.R & -0.98911878\\\\\n",
       "\tWind &  0.00611202\\\\\n",
       "\tTemp & -0.03395128\\\\\n",
       "\\end{tabular}\n"
      ],
      "text/markdown": [
       "\n",
       "| <!--/--> | w | \n",
       "|---|---|---|---|\n",
       "| Ozone | -0.14301748 | \n",
       "| Solar.R | -0.98911878 | \n",
       "| Wind |  0.00611202 | \n",
       "| Temp | -0.03395128 | \n",
       "\n",
       "\n"
      ],
      "text/plain": [
       "        w          \n",
       "Ozone   -0.14301748\n",
       "Solar.R -0.98911878\n",
       "Wind     0.00611202\n",
       "Temp    -0.03395128"
      ]
     },
     "metadata": {},
     "output_type": "display_data"
    },
    {
     "data": {
      "text/html": [
       "<table>\n",
       "<thead><tr><th></th><th scope=col>lambda</th></tr></thead>\n",
       "<tbody>\n",
       "\t<tr><th scope=row>1er componente</th><td>8470.499</td></tr>\n",
       "</tbody>\n",
       "</table>\n"
      ],
      "text/latex": [
       "\\begin{tabular}{r|l}\n",
       "  & lambda\\\\\n",
       "\\hline\n",
       "\t1er componente & 8470.499\\\\\n",
       "\\end{tabular}\n"
      ],
      "text/markdown": [
       "\n",
       "| <!--/--> | lambda | \n",
       "|---|\n",
       "| 1er componente | 8470.499 | \n",
       "\n",
       "\n"
      ],
      "text/plain": [
       "               lambda  \n",
       "1er componente 8470.499"
      ]
     },
     "metadata": {},
     "output_type": "display_data"
    }
   ],
   "source": [
    "w=eigen(S)$vectors[,1]; as.data.frame(w, row.names=rownames(S))\n",
    "lambda=eigen(S)$values[1]; as.data.frame(lambda, row.names=\"1er componente\")\n"
   ]
  },
  {
   "cell_type": "markdown",
   "metadata": {},
   "source": [
    " "
   ]
  },
  {
   "cell_type": "markdown",
   "metadata": {},
   "source": [
    "El primer componente esta relacionado principalmente con el nivel de radiación solar registrado para cada día y en menor medida con el nivel medio de ozono en partes por billón, las otras dos variables no se explican con este componente. Podemos observar mejor los resultados de este análisis empleando la función $princomp$, con la que se obtiene:"
   ]
  },
  {
   "cell_type": "code",
   "execution_count": 47,
   "metadata": {},
   "outputs": [
    {
     "data": {
      "text/plain": [
       "Importance of components:\n",
       "                           Comp.1     Comp.2     Comp.3       Comp.4\n",
       "Standard deviation     91.6199928 31.4294916 6.64592630 2.7466704766\n",
       "Proportion of Variance  0.8898078  0.1047105 0.00468195 0.0007997032\n",
       "Cumulative Proportion   0.8898078  0.9945183 0.99920030 1.0000000000\n",
       "\n",
       "Loadings:\n",
       "        Comp.1 Comp.2 Comp.3 Comp.4\n",
       "Ozone    0.143  0.967 -0.203       \n",
       "Solar.R  0.989 -0.147              \n",
       "Wind                          0.996\n",
       "Temp            0.196  0.978       "
      ]
     },
     "metadata": {},
     "output_type": "display_data"
    }
   ],
   "source": [
    "pca1=princomp(air, cor=F)\n",
    "summary(pca1, loadings=T)"
   ]
  },
  {
   "cell_type": "markdown",
   "metadata": {},
   "source": [
    "El primer componente explica el 88.98% de la varianza, que es un porcentaje muy alto. Por lo tanto resume adecuadamente la iinformación de las cuatro variables."
   ]
  },
  {
   "cell_type": "markdown",
   "metadata": {},
   "source": [
    "### 1.2  Biplot\n",
    "<br>"
   ]
  },
  {
   "cell_type": "code",
   "execution_count": 53,
   "metadata": {},
   "outputs": [
    {
     "data": {
      "image/png": "[encoded data removed]",
      "text/plain": [
       "Plot with title \"Biplot PCA air quality New York\""
      ]
     },
     "metadata": {},
     "output_type": "display_data"
    }
   ],
   "source": [
    "library(repr)\n",
    "options(repr.plot.width=5, repr.plot.height=5, repr.plot.bg=\"grey\")\n",
    "biplot(pca1, xlim=c(-0.2,0.2), cex=0.65, cex.axis=0.65, cex.lab=0.65,\n",
    "      main=\"Biplot PCA air quality New York\")\n",
    "grid()"
   ]
  },
  {
   "cell_type": "markdown",
   "metadata": {},
   "source": [
    "El biplot deja ver la relación directa entre la radiación solar *'Solar.R'* con el primer componente, por otro lado el ángulo de la variable nivel de ozono *'Ozone'* indica que tiene mas relación con el segundo componente y que las otras dos variables no influyen para detemrinar la calidad del aire, medida por las cuatro variables seleccionadas."
   ]
  },
  {
   "cell_type": "markdown",
   "metadata": {},
   "source": [
    "### 1.3 Componentes principales - matriz de correlaciones\n",
    "Encuentre las componentes principales usando la matriz de correlaciones. Cuál matriz se debe usar para construir el índice, ***S(varianzas)*** o ***R(correlaciones)***?\n",
    "<br>\n",
    "<br>\n",
    "La matriz de correlaciones para las cuatro variables es la siguiente:"
   ]
  },
  {
   "cell_type": "code",
   "execution_count": 62,
   "metadata": {},
   "outputs": [
    {
     "data": {
      "text/html": [
       "<table>\n",
       "<thead><tr><th></th><th scope=col>Ozone</th><th scope=col>Solar.R</th><th scope=col>Wind</th><th scope=col>Temp</th></tr></thead>\n",
       "<tbody>\n",
       "\t<tr><th scope=row>Ozone</th><td> 1.0000000</td><td> 0.3483417</td><td>-0.6124966</td><td> 0.6985414</td></tr>\n",
       "\t<tr><th scope=row>Solar.R</th><td> 0.3483417</td><td> 1.0000000</td><td>-0.1271835</td><td> 0.2940876</td></tr>\n",
       "\t<tr><th scope=row>Wind</th><td>-0.6124966</td><td>-0.1271835</td><td> 1.0000000</td><td>-0.4971897</td></tr>\n",
       "\t<tr><th scope=row>Temp</th><td> 0.6985414</td><td> 0.2940876</td><td>-0.4971897</td><td> 1.0000000</td></tr>\n",
       "</tbody>\n",
       "</table>\n"
      ],
      "text/latex": [
       "\\begin{tabular}{r|llll}\n",
       "  & Ozone & Solar.R & Wind & Temp\\\\\n",
       "\\hline\n",
       "\tOzone &  1.0000000 &  0.3483417 & -0.6124966 &  0.6985414\\\\\n",
       "\tSolar.R &  0.3483417 &  1.0000000 & -0.1271835 &  0.2940876\\\\\n",
       "\tWind & -0.6124966 & -0.1271835 &  1.0000000 & -0.4971897\\\\\n",
       "\tTemp &  0.6985414 &  0.2940876 & -0.4971897 &  1.0000000\\\\\n",
       "\\end{tabular}\n"
      ],
      "text/markdown": [
       "\n",
       "| <!--/--> | Ozone | Solar.R | Wind | Temp | \n",
       "|---|---|---|---|\n",
       "| Ozone |  1.0000000 |  0.3483417 | -0.6124966 |  0.6985414 | \n",
       "| Solar.R |  0.3483417 |  1.0000000 | -0.1271835 |  0.2940876 | \n",
       "| Wind | -0.6124966 | -0.1271835 |  1.0000000 | -0.4971897 | \n",
       "| Temp |  0.6985414 |  0.2940876 | -0.4971897 |  1.0000000 | \n",
       "\n",
       "\n"
      ],
      "text/plain": [
       "        Ozone      Solar.R    Wind       Temp      \n",
       "Ozone    1.0000000  0.3483417 -0.6124966  0.6985414\n",
       "Solar.R  0.3483417  1.0000000 -0.1271835  0.2940876\n",
       "Wind    -0.6124966 -0.1271835  1.0000000 -0.4971897\n",
       "Temp     0.6985414  0.2940876 -0.4971897  1.0000000"
      ]
     },
     "metadata": {},
     "output_type": "display_data"
    }
   ],
   "source": [
    "library(corrplot)\n",
    "R=cor(air)\n",
    "as.data.frame(R)"
   ]
  },
  {
   "cell_type": "markdown",
   "metadata": {},
   "source": [
    " "
   ]
  },
  {
   "cell_type": "markdown",
   "metadata": {},
   "source": [
    "Ahora se conforman los componentes principales con esta matriz, con lo que se obtienen los siguientes resultados:"
   ]
  },
  {
   "cell_type": "code",
   "execution_count": 67,
   "metadata": {},
   "outputs": [
    {
     "data": {
      "text/plain": [
       "Importance of components:\n",
       "                          Comp.1    Comp.2    Comp.3    Comp.4\n",
       "Standard deviation     1.5361961 0.9458733 0.6897463 0.5193026\n",
       "Proportion of Variance 0.5899747 0.2236691 0.1189375 0.0674188\n",
       "Cumulative Proportion  0.5899747 0.8136437 0.9325812 1.0000000\n",
       "\n",
       "Loadings:\n",
       "        Comp.1 Comp.2 Comp.3 Comp.4\n",
       "Ozone   -0.589         0.115  0.797\n",
       "Solar.R -0.317 -0.898 -0.278 -0.123\n",
       "Wind     0.497 -0.430  0.691  0.302\n",
       "Temp    -0.553         0.658 -0.508"
      ]
     },
     "metadata": {},
     "output_type": "display_data"
    }
   ],
   "source": [
    "pca2=princomp(air, cor=T)\n",
    "summary(pca2, loadings=T)"
   ]
  },
  {
   "cell_type": "markdown",
   "metadata": {},
   "source": [
    "Para este caso la proporción de varianza explicada por el primer componente es del 59% y nos indica que el ozono, la radiación solar y la temperatura están relacionadas directamente, mientras que el viento es inverso a estas tres variables. Un valor alto en el primer componente implica que el ozono, la radiación solar y la temperatura presentan bajos niveles,por otro lado el viento presenta alta velocidad."
   ]
  },
  {
   "cell_type": "markdown",
   "metadata": {},
   "source": [
    "Como se quiere resumir la información a una sola variable, se tiene en cuenta solo el primer componente. Por lo tanto, para este caso es preferible implementar el análisis de componentes principales con la **matriz de varianzas y covarianzas**, pues la proporción de varianza que explica el primer componente es mayor:\n",
    "\n",
    "$$ PV_S = 89\\% > PV_R = 59\\% $$"
   ]
  },
  {
   "cell_type": "code",
   "execution_count": null,
   "metadata": {
    "collapsed": true
   },
   "outputs": [],
   "source": []
  }
 ],
 "metadata": {
  "kernelspec": {
   "display_name": "R",
   "language": "R",
   "name": "ir"
  },
  "language_info": {
   "codemirror_mode": "r",
   "file_extension": ".r",
   "mimetype": "text/x-r-source",
   "name": "R",
   "pygments_lexer": "r",
   "version": "3.4.1"
  }
 },
 "nbformat": 4,
 "nbformat_minor": 2
}
